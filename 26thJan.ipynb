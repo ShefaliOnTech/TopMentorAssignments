{
 "cells": [
  {
   "cell_type": "code",
   "execution_count": null,
   "id": "aeb4a758-9228-4e4a-9174-2c5ba2089114",
   "metadata": {},
   "outputs": [],
   "source": [
    "##### Shefali Upadhyay 31/01/2025"
   ]
  },
  {
   "cell_type": "code",
   "execution_count": null,
   "id": "73f91a24-cd08-4e32-af59-78927bf0cb48",
   "metadata": {},
   "outputs": [],
   "source": [
    "##### Simple programming of python"
   ]
  },
  {
   "cell_type": "code",
   "execution_count": 3,
   "id": "e6dedbe1-0595-4dcf-aea1-55958ad320b2",
   "metadata": {},
   "outputs": [
    {
     "name": "stdout",
     "output_type": "stream",
     "text": [
      "Hello World\n"
     ]
    }
   ],
   "source": [
    "message=\"Hello World\"\n",
    "print(message)"
   ]
  },
  {
   "cell_type": "code",
   "execution_count": 5,
   "id": "25523bd7-fbaa-4f20-b83a-f01502316b04",
   "metadata": {},
   "outputs": [
    {
     "name": "stdout",
     "output_type": "stream",
     "text": [
      "Hello World\n",
      "Bye World\n"
     ]
    }
   ],
   "source": [
    "message1=\"Hello World\"\n",
    "print(message1)\n",
    "message1=\"Bye World\"\n",
    "print(message1)"
   ]
  },
  {
   "cell_type": "code",
   "execution_count": 7,
   "id": "565b9e6c-7e80-403e-b3cc-b4d1fd487f95",
   "metadata": {},
   "outputs": [
    {
     "name": "stdout",
     "output_type": "stream",
     "text": [
      "Hello Eric, would you like to learn some Python today?\n"
     ]
    }
   ],
   "source": [
    "name=\"Eric\"\n",
    "print(\"Hello \"+name+\", would you like to learn some Python today?\")"
   ]
  },
  {
   "cell_type": "code",
   "execution_count": 9,
   "id": "a014b027-1c45-4950-9ea2-6e0865a9596c",
   "metadata": {},
   "outputs": [
    {
     "name": "stdout",
     "output_type": "stream",
     "text": [
      " Albert Einstein once said, \"A person who never made a mistake never tried anything new.\"\n"
     ]
    }
   ],
   "source": [
    "print(\" Albert Einstein once said, \\\"A person who never made a mistake never tried anything new.\\\"\")"
   ]
  },
  {
   "cell_type": "code",
   "execution_count": 11,
   "id": "54341eb0-e2f6-4748-b588-ec78c4aa1b35",
   "metadata": {},
   "outputs": [
    {
     "name": "stdout",
     "output_type": "stream",
     "text": [
      "Albert Einstein once said, \"A person who never made a mistake never tried anything new.\"\n"
     ]
    }
   ],
   "source": [
    "famous_person=\"Albert Einstein\"\n",
    "print(famous_person+\" once said, \\\"A person who never made a mistake never tried anything new.\\\"\")"
   ]
  },
  {
   "cell_type": "code",
   "execution_count": 13,
   "id": "2c559245-2d10-49d7-9670-3cd55f35abe8",
   "metadata": {},
   "outputs": [
    {
     "name": "stdout",
     "output_type": "stream",
     "text": [
      "8\n",
      "8\n",
      "8\n",
      "8.0\n"
     ]
    }
   ],
   "source": [
    "print(5+3)\n",
    "print(10-2)\n",
    "print(4*2)\n",
    "print(16/2)"
   ]
  },
  {
   "cell_type": "code",
   "execution_count": 17,
   "id": "bc56a3e2-2900-4ca7-bb70-4e325d2560b9",
   "metadata": {},
   "outputs": [
    {
     "name": "stdout",
     "output_type": "stream",
     "text": [
      "Favourite number is 7\n"
     ]
    }
   ],
   "source": [
    "fav_number=\"7\"\n",
    "print(\"Favourite number is \"+fav_number)"
   ]
  },
  {
   "cell_type": "code",
   "execution_count": 27,
   "id": "43dd42bc-0f7c-4db9-8e0b-13711c60d44c",
   "metadata": {},
   "outputs": [
    {
     "name": "stdout",
     "output_type": "stream",
     "text": [
      "Shefali\n",
      "Sonali\n",
      "Parul\n",
      "Swetha\n",
      "Divisha\n"
     ]
    }
   ],
   "source": [
    "friends=[\"Shefali\",\"Sonali\",\"Parul\",\"Swetha\",\"Divisha\"];\n",
    "for i in range(0, len(friends)):\n",
    "    print( friends[i])"
   ]
  },
  {
   "cell_type": "code",
   "execution_count": 29,
   "id": "441cc36c-d564-40e6-b9ee-5e12e7832655",
   "metadata": {},
   "outputs": [
    {
     "name": "stdout",
     "output_type": "stream",
     "text": [
      "Shefali have a nice day!\n",
      "Sonali have a nice day!\n",
      "Parul have a nice day!\n",
      "Swetha have a nice day!\n",
      "Divisha have a nice day!\n"
     ]
    }
   ],
   "source": [
    "for i in range(0, len(friends)):\n",
    "    print( friends[i] + \" have a nice day!\")"
   ]
  },
  {
   "cell_type": "code",
   "execution_count": 31,
   "id": "ba15932b-5383-44b5-9487-0c847908531f",
   "metadata": {},
   "outputs": [
    {
     "name": "stdout",
     "output_type": "stream",
     "text": [
      "I would like to own a Honda Motorcycle\n",
      "I would like to own a Tata Punch Car\n"
     ]
    }
   ],
   "source": [
    "mode_of_transportation = [\"Honda Motorcycle\", \"Tata Punch Car\"]\n",
    "\n",
    "for i in range(0,len(mode_of_transportation)):\n",
    "    print(\"I would like to own a \"+mode_of_transportation[i])"
   ]
  },
  {
   "cell_type": "code",
   "execution_count": 3,
   "id": "6dc17868-b2f3-4dd4-8eb4-a975d6bfdb3e",
   "metadata": {},
   "outputs": [
    {
     "data": {
      "text/plain": [
       "'C:\\\\Users\\\\FCI'"
      ]
     },
     "execution_count": 3,
     "metadata": {},
     "output_type": "execute_result"
    }
   ],
   "source": [
    "pwd"
   ]
  },
  {
   "cell_type": "code",
   "execution_count": null,
   "id": "8853122c-ba49-4798-a043-e19330bcbc54",
   "metadata": {},
   "outputs": [],
   "source": []
  }
 ],
 "metadata": {
  "kernelspec": {
   "display_name": "Python [conda env:base] *",
   "language": "python",
   "name": "conda-base-py"
  },
  "language_info": {
   "codemirror_mode": {
    "name": "ipython",
    "version": 3
   },
   "file_extension": ".py",
   "mimetype": "text/x-python",
   "name": "python",
   "nbconvert_exporter": "python",
   "pygments_lexer": "ipython3",
   "version": "3.12.7"
  }
 },
 "nbformat": 4,
 "nbformat_minor": 5
}
